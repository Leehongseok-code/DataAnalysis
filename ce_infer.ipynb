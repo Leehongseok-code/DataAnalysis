{
 "cells": [
  {
   "cell_type": "code",
   "execution_count": 1,
   "id": "abc025ea-c58b-4e1c-a11b-93ca2902b93d",
   "metadata": {},
   "outputs": [
    {
     "name": "stderr",
     "output_type": "stream",
     "text": [
      "WARNING:absl:At this time, the v2.11+ optimizer `tf.keras.optimizers.Adam` runs slowly on M1/M2 Macs, please use the legacy Keras optimizer instead, located at `tf.keras.optimizers.legacy.Adam`.\n",
      "WARNING:absl:There is a known slowdown when using v2.11+ Keras optimizers on M1/M2 Macs. Falling back to the legacy Keras optimizer, i.e., `tf.keras.optimizers.legacy.Adam`.\n"
     ]
    },
    {
     "name": "stdout",
     "output_type": "stream",
     "text": [
      "Model: \"sequential\"\n",
      "_________________________________________________________________\n",
      " Layer (type)                Output Shape              Param #   \n",
      "=================================================================\n",
      " dense (Dense)               (None, 128)               1664      \n",
      "                                                                 \n",
      " dense_1 (Dense)             (None, 64)                8256      \n",
      "                                                                 \n",
      " dense_2 (Dense)             (None, 4)                 260       \n",
      "                                                                 \n",
      "=================================================================\n",
      "Total params: 10180 (39.77 KB)\n",
      "Trainable params: 10180 (39.77 KB)\n",
      "Non-trainable params: 0 (0.00 Byte)\n",
      "_________________________________________________________________\n",
      "                                                  acc_id     label\n",
      "0      b8fbf3f6a70e3f36843bffc70c18ff51a0d755a87616ec...      week\n",
      "1      ed500c4957956b3e99dc3985666850b582f812405eefb6...      week\n",
      "2      acc6afa23a6bf15e18151e4794c7789225ef9d682f473c...      week\n",
      "3      34095a3c9a2937ced3ea3fd75e22ce177dc5879d2a53f7...      week\n",
      "4      26f3db6e8817a93c4ceda9a16f0832945e43d950b95882...      week\n",
      "...                                                  ...       ...\n",
      "99995  da6d33b03968d8e35821f6eb88ad22e12e37aa8867084e...  retained\n",
      "99996  676c944f4b6ae63818b3cad824a61233690f16a2275d5d...  retained\n",
      "99997  695e1f28e234fc4cc53085e332fa7a76d7895ca4cc745b...  retained\n",
      "99998  0c87fabaad5542e533f958a1d6fd739993b94e95e00989...  retained\n",
      "99999  47ff575cb94019df5695c5d81ec285b0d801607b2a8697...  retained\n",
      "\n",
      "[100000 rows x 2 columns]\n",
      "        wk                                             acc_id  cnt_dt  \\\n",
      "0        7  3dc6f2875dc6e6f35b9e2bdb25b391a8003386ff23becd...       4   \n",
      "1        8  3dc6f2875dc6e6f35b9e2bdb25b391a8003386ff23becd...       5   \n",
      "2        3  b8856358ff62e596fa07e3e40b8e7fd4b7729263c72b44...       2   \n",
      "3        4  b8856358ff62e596fa07e3e40b8e7fd4b7729263c72b44...       2   \n",
      "4        5  b8856358ff62e596fa07e3e40b8e7fd4b7729263c72b44...       4   \n",
      "...     ..                                                ...     ...   \n",
      "440318   5  2b1dd159278e330d1e898f4202c09aa6be22cfb1aac6b7...       7   \n",
      "440319   6  2b1dd159278e330d1e898f4202c09aa6be22cfb1aac6b7...       7   \n",
      "440320   7  2b1dd159278e330d1e898f4202c09aa6be22cfb1aac6b7...       6   \n",
      "440321   8  2b1dd159278e330d1e898f4202c09aa6be22cfb1aac6b7...       3   \n",
      "440322   8  7b08dab0401bf3f2ab44bfdfa0b0c2b93d6bed5d8e4350...       3   \n",
      "\n",
      "        play_time   npc_exp  npc_hongmun  quest_exp  quest_hongmun  \\\n",
      "0        2.088814  4.405057    -0.245477   4.454059       3.009797   \n",
      "1        2.673460  4.760178    -0.222527   6.107479       4.758528   \n",
      "2       -0.649522 -0.231021    -0.290803  -0.245978      -0.487666   \n",
      "3       -0.658235 -0.231874    -0.290803  -0.250423      -0.487666   \n",
      "4       -0.654734 -0.231874    -0.290803  -0.250423      -0.487666   \n",
      "...           ...       ...          ...        ...            ...   \n",
      "440318  -0.469571 -0.231874    -0.244973  -0.250423      -0.469541   \n",
      "440319  -0.461154 -0.231874    -0.182266  -0.250423      -0.441736   \n",
      "440320  -0.349489 -0.231874    -0.203925  -0.250423      -0.466600   \n",
      "440321  -0.063085 -0.231874    -0.249229  -0.250423      -0.483695   \n",
      "440322  -0.650916 -0.231021    -0.290803  -0.245978      -0.487666   \n",
      "\n",
      "        item_hongmun  game_combat_time  ...  cnt_clear_bam  normal_chat  \\\n",
      "0          -0.306354          1.184011  ...       -0.03313    -0.034038   \n",
      "1          -0.306354          1.709534  ...       -0.03313    -0.034038   \n",
      "2          -0.306354         -0.566706  ...       -0.03313    -0.034038   \n",
      "3          -0.306354         -0.569842  ...       -0.03313    -0.034038   \n",
      "4          -0.306354         -0.569842  ...       -0.03313    -0.034038   \n",
      "...              ...               ...  ...            ...          ...   \n",
      "440318     -0.306354         -0.331656  ...       -0.03313    -0.034038   \n",
      "440319     -0.277269         -0.334452  ...       -0.03313    -0.034038   \n",
      "440320     -0.273114         -0.274341  ...       -0.03313    -0.034038   \n",
      "440321     -0.293889          0.180223  ...       -0.03313    -0.034038   \n",
      "440322     -0.306354         -0.567187  ...       -0.03313    -0.034038   \n",
      "\n",
      "        whisper_chat  district_chat  party_chat  guild_chat  faction_chat  \\\n",
      "0          -0.231827      -0.016574   -0.275174   -0.343293     -0.024028   \n",
      "1          -0.231827      -0.016574   -0.275174   -0.343293     -0.024028   \n",
      "2          -0.231827      -0.016574   -0.275174   -0.343293     -0.024028   \n",
      "3          -0.231827      -0.016574   -0.275174   -0.343293     -0.024028   \n",
      "4          -0.231827      -0.016574   -0.275174   -0.343293     -0.024028   \n",
      "...              ...            ...         ...         ...           ...   \n",
      "440318     -0.145568      -0.016574   -0.262212   -0.343293     -0.024028   \n",
      "440319     -0.145568      -0.016574   -0.275174   -0.343293     -0.024028   \n",
      "440320     -0.145568      -0.016574   -0.270853   -0.343293     -0.024028   \n",
      "440321     -0.207181      -0.016574   -0.275174   -0.343293     -0.024028   \n",
      "440322     -0.231827      -0.016574   -0.275174   -0.343293     -0.024028   \n",
      "\n",
      "        cnt_use_buffitem  gathering_cnt  making_cnt  \n",
      "0               3.466939      -0.027758   -0.365536  \n",
      "1               5.070359      -0.027758   -0.365536  \n",
      "2              -0.498275      -0.027758   -0.365536  \n",
      "3              -0.503692      -0.027758   -0.365536  \n",
      "4              -0.503692      -0.027758   -0.365536  \n",
      "...                  ...            ...         ...  \n",
      "440318         -0.097420      -0.027758   -0.365536  \n",
      "440319         -0.151590      -0.027758   -0.365536  \n",
      "440320         -0.254512      -0.027758   -0.365536  \n",
      "440321          0.265516      -0.027758   -0.365536  \n",
      "440322         -0.498275      -0.027758   -0.365536  \n",
      "\n",
      "[440323 rows x 38 columns]\n"
     ]
    }
   ],
   "source": [
    "import pandas as pd\n",
    "import numpy as np\n",
    "import matplotlib.pyplot as plt\n",
    "\n",
    "from sklearn.ensemble import RandomForestClassifier\n",
    "from sklearn.ensemble import RandomForestRegressor\n",
    "from sklearn.preprocessing import LabelEncoder\n",
    "from sklearn.model_selection import train_test_split\n",
    "from sklearn.metrics import accuracy_score, classification_report\n",
    "\n",
    "from mlp_ce import model\n",
    "\n",
    "\n",
    "\n",
    "\n",
    "train_label = pd.read_csv('/Users/hongseoklee/VSCodeWorkspace/AIs/NCSoft/final_data/train/train_label.csv')\n",
    "print(train_label)\n",
    "\n",
    "\n",
    "train_activity = pd.read_csv('/Users/hongseoklee/VSCodeWorkspace/AIs/NCSoft/final_data/train/train_activity.csv')\n",
    "print(train_activity)\n"
   ]
  },
  {
   "cell_type": "code",
   "execution_count": 2,
   "id": "e6e60f68-5539-4d75-96da-765c35a02239",
   "metadata": {},
   "outputs": [
    {
     "name": "stdout",
     "output_type": "stream",
     "text": [
      "(440323, 37)\n",
      "Epoch 1/5\n",
      "8807/8807 [==============================] - 6s 647us/step - loss: 1.0183 - accuracy: 0.5630 - val_loss: 0.9749 - val_accuracy: 0.5872\n",
      "Epoch 2/5\n",
      "8807/8807 [==============================] - 6s 635us/step - loss: 0.9558 - accuracy: 0.5936 - val_loss: 0.9542 - val_accuracy: 0.5946\n",
      "Epoch 3/5\n",
      "8807/8807 [==============================] - 6s 639us/step - loss: 0.9368 - accuracy: 0.6025 - val_loss: 0.9278 - val_accuracy: 0.6050\n",
      "Epoch 4/5\n",
      "8807/8807 [==============================] - 6s 633us/step - loss: 0.9260 - accuracy: 0.6069 - val_loss: 0.9201 - val_accuracy: 0.6112\n",
      "Epoch 5/5\n",
      "8807/8807 [==============================] - 5s 594us/step - loss: 0.9203 - accuracy: 0.6093 - val_loss: 0.9172 - val_accuracy: 0.6079\n",
      "2753/2753 [==============================] - 1s 257us/step\n"
     ]
    }
   ],
   "source": [
    "df = pd.merge(left = train_label , right = train_activity, how = \"inner\", on = \"acc_id\")\n",
    "\n",
    "\n",
    "\n",
    "# 원하는 라벨 순서 정의\n",
    "label_mapping = {'week':0, 'month':1, '2month':2, 'retained':3}\n",
    "\n",
    "# 데이터프레임 열에 매핑 적용\n",
    "df['label'] = df['label'].map(label_mapping)\n",
    "\n",
    "\n",
    "categorical_features = [\"acc_id\"]\n",
    "# for문을 사용하여 Label Encoding 적용\n",
    "label_encoder = LabelEncoder()\n",
    "for column in categorical_features:\n",
    "    df[column] = label_encoder.fit_transform(df[column])\n",
    "\n",
    "\n",
    "# 결과 출력\n",
    "\n",
    "\n",
    "\n",
    "train_x = df.drop(labels = [\"label\", \"acc_id\"], axis = 1)\n",
    "train_y = df[\"label\"]\n",
    "\n",
    "\n",
    "columns = train_x.columns\n",
    "\n",
    "#print(train_x)\n",
    "\n",
    "print(train_x.shape)\n",
    "\n",
    "selected_features = ['item_hongmun', 'party_chat', 'cnt_dt', 'npc_hongmun', 'whisper_chat', 'wk', 'cnt_use_buffitem', 'get_money', 'quest_hongmun', 'guild_chat', 'game_combat_time', 'play_time']\n",
    "train_x = train_x[selected_features]\n",
    "\n",
    "\n",
    "#검증 데이터셋 추출\n",
    "train_x, val_x, train_y, val_y = train_test_split(train_x, train_y, test_size=0.2, random_state=42)\n",
    "\n",
    "\n",
    "model.fit(train_x, train_y, epochs=5, batch_size=32, validation_split=0.2)\n",
    "\n",
    "# 훈련된 모델을 사용하여 검증 세트 예측\n",
    "y_pred = model.predict(val_x)\n",
    "y_pred = np.argmax(y_pred, axis=1)\n",
    "\n",
    "\n"
   ]
  },
  {
   "cell_type": "code",
   "execution_count": 3,
   "id": "69fdcd83-aa0c-4fef-871d-101ad6a136d5",
   "metadata": {},
   "outputs": [
    {
     "name": "stdout",
     "output_type": "stream",
     "text": [
      "Classification Report:\n",
      "              precision    recall  f1-score   support\n",
      "\n",
      "           0       0.67      0.66      0.66     15358\n",
      "           1       0.60      0.36      0.45     19432\n",
      "           2       0.44      0.69      0.54     19815\n",
      "           3       0.74      0.67      0.70     33460\n",
      "\n",
      "    accuracy                           0.60     88065\n",
      "   macro avg       0.61      0.60      0.59     88065\n",
      "weighted avg       0.63      0.60      0.60     88065\n",
      "\n"
     ]
    }
   ],
   "source": [
    "# 분류 보고서 출력\n",
    "print('Classification Report:')\n",
    "print(classification_report(val_y, y_pred))"
   ]
  },
  {
   "cell_type": "code",
   "execution_count": 4,
   "id": "ed0ad7a3-6760-4e89-97f4-4819a454b343",
   "metadata": {},
   "outputs": [
    {
     "data": {
      "image/png": "[encoded data removed]",
      "text/plain": [
       "<Figure size 640x480 with 1 Axes>"
      ]
     },
     "metadata": {},
     "output_type": "display_data"
    }
   ],
   "source": [
    "# 클래스 레이블과 개수 추출\n",
    "labels = list(set(val_y))  # 중복을 제거한 클래스 레이블 리스트\n",
    "counts = [list(val_y).count(label) for label in labels]  # 각 클래스별 개수 계산\n",
    "\n",
    "# 막대 그래프 생성\n",
    "plt.bar(labels, counts)\n",
    "\n",
    "# 그래프에 레이블 추가\n",
    "plt.xlabel('Class')\n",
    "plt.ylabel('Count')\n",
    "plt.title('Class Distribution')\n",
    "\n",
    "# 그래프 표시\n",
    "plt.show()"
   ]
  },
  {
   "cell_type": "code",
   "execution_count": 5,
   "id": "b978516e-1ac3-42b8-848f-c39304dd6d92",
   "metadata": {},
   "outputs": [
    {
     "data": {
      "image/png": "[encoded data removed]",
      "text/plain": [
       "<Figure size 640x480 with 1 Axes>"
      ]
     },
     "metadata": {},
     "output_type": "display_data"
    }
   ],
   "source": [
    "# 클래스 레이블과 개수 추출\n",
    "labels = list(set(y_pred))  # 중복을 제거한 클래스 레이블 리스트\n",
    "counts = [list(y_pred).count(label) for label in labels]  # 각 클래스별 개수 계산\n",
    "\n",
    "# 막대 그래프 생성\n",
    "plt.bar(labels, counts)\n",
    "\n",
    "# 그래프에 레이블 추가\n",
    "plt.xlabel('Class')\n",
    "plt.ylabel('Count')\n",
    "plt.title('Class Distribution')\n",
    "\n",
    "# 그래프 표시\n",
    "plt.show()"
   ]
  },
  {
   "cell_type": "code",
   "execution_count": null,
   "id": "854e0fa5-f264-459b-932d-8d5d9e290f35",
   "metadata": {},
   "outputs": [],
   "source": []
  }
 ],
 "metadata": {
  "kernelspec": {
   "display_name": "Python 3 (ipykernel)",
   "language": "python",
   "name": "python3"
  },
  "language_info": {
   "codemirror_mode": {
    "name": "ipython",
    "version": 3
   },
   "file_extension": ".py",
   "mimetype": "text/x-python",
   "name": "python",
   "nbconvert_exporter": "python",
   "pygments_lexer": "ipython3",
   "version": "3.8.18"
  }
 },
 "nbformat": 4,
 "nbformat_minor": 5
}
